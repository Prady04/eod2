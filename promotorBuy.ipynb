{
 "cells": [
  {
   "cell_type": "markdown",
   "id": "3ccd51a0-30f7-4821-ac0a-a06cccb02b34",
   "metadata": {},
   "source": [
    "## Get data from NSE"
   ]
  },
  {
   "cell_type": "code",
   "execution_count": 1,
   "id": "2f4c7a33-fa82-491c-83b0-006cde4db43f",
   "metadata": {},
   "outputs": [
    {
     "ename": "ModuleNotFoundError",
     "evalue": "No module named 'requests'",
     "output_type": "error",
     "traceback": [
      "\u001b[1;31m---------------------------------------------------------------------------\u001b[0m",
      "\u001b[1;31mModuleNotFoundError\u001b[0m                       Traceback (most recent call last)",
      "Cell \u001b[1;32mIn[1], line 1\u001b[0m\n\u001b[1;32m----> 1\u001b[0m \u001b[38;5;28;01mimport\u001b[39;00m \u001b[38;5;21;01mrequests\u001b[39;00m\n\u001b[0;32m      2\u001b[0m \u001b[38;5;28;01mimport\u001b[39;00m \u001b[38;5;21;01mpandas\u001b[39;00m \u001b[38;5;28;01mas\u001b[39;00m \u001b[38;5;21;01mpd\u001b[39;00m\n\u001b[0;32m      3\u001b[0m pd\u001b[38;5;241m.\u001b[39mset_option(\u001b[38;5;124m'\u001b[39m\u001b[38;5;124mdisplay.max_columns\u001b[39m\u001b[38;5;124m'\u001b[39m, \u001b[38;5;28;01mNone\u001b[39;00m)\n",
      "\u001b[1;31mModuleNotFoundError\u001b[0m: No module named 'requests'"
     ]
    }
   ],
   "source": [
    "\n",
    "\n",
    "\n",
    "import requests\n",
    "import pandas as pd\n",
    "pd.set_option('display.max_columns', None)\n",
    "from datetime import datetime, timedelta\n",
    "fromdate = datetime.strftime(datetime.today(),'%d-%m-%Y')\n",
    "todate =  datetime.today() - timedelta(days=120)  \n",
    "enddate = datetime.strftime(todate,'%d-%m-%Y')\n",
    "url = 'https://www.nseindia.com/api/corporates-pit?index=equities&from_date='+ enddate+ '&to_date=' + fromdate\n",
    "print(url)\n",
    "\n",
    "headers = {\n",
    "    'User-Agent': 'Mozilla/5.0 (Windows NT 10.0; Win64; x64) AppleWebKit/537.36 (KHTML, like Gecko) Chrome/89.0.4389.82 Safari/537.36',\n",
    "    'Accept': 'application/json, text/javascript, */*; q=0.01',\n",
    "    'Referer': 'https://www.nseindia.com',\n",
    "    'X-Requested-With': 'XMLHttpRequest'\n",
    "}\n",
    "\n",
    "\n",
    "session = requests.Session()\n",
    "session.headers.update(headers)\n",
    "\n",
    "\n",
    "session.get('https://www.nseindia.com',timeout=5)  # Initial request to get the cookies\n",
    "\n",
    "\n",
    "response = session.get(url)\n",
    "data = response.json()\n",
    "data"
   ]
  },
  {
   "cell_type": "markdown",
   "id": "b70a68bd-6b2b-4057-afc4-e61faa419cc6",
   "metadata": {},
   "source": [
    "## Convert Json to Dataframe"
   ]
  },
  {
   "cell_type": "code",
   "execution_count": null,
   "id": "4023832e-4ad1-45df-bc6b-ad1db9862173",
   "metadata": {},
   "outputs": [],
   "source": [
    "df = pd.DataFrame(data['data'])\n",
    "df"
   ]
  },
  {
   "cell_type": "code",
   "execution_count": null,
   "id": "b4e31812-28e1-4897-817f-ed17267b9cac",
   "metadata": {},
   "outputs": [],
   "source": [
    "df.replace(\"-\", 0, inplace=True)"
   ]
  },
  {
   "cell_type": "code",
   "execution_count": null,
   "id": "4640d240-5ca7-4eb7-bbcc-bc807834b3a1",
   "metadata": {},
   "outputs": [],
   "source": [
    "\n",
    "df[\"secVal\"] = pd.to_numeric(df[\"secVal\"])\n",
    "df['acqfromDt'] = pd.to_datetime(df['acqfromDt'],format='mixed')\n",
    "df"
   ]
  },
  {
   "cell_type": "code",
   "execution_count": null,
   "id": "75926682-498a-4c14-8e08-052ee542a151",
   "metadata": {},
   "outputs": [],
   "source": [
    "\n",
    "personCat = ['Promoters','Promoter Group']\n",
    "df = df[(df['personCategory'].isin(personCat)) & (df['acqMode'] == 'Market Purchase') & (df['tdpTransactionType'] == 'Buy') ]\n",
    "df"
   ]
  },
  {
   "cell_type": "code",
   "execution_count": null,
   "id": "c4ccf35b-8aa4-4e5e-9ea5-3fcac0594beb",
   "metadata": {},
   "outputs": [],
   "source": [
    "\n",
    "df[df['symbol'] == \"POONAWALLA\"]"
   ]
  },
  {
   "cell_type": "code",
   "execution_count": null,
   "id": "fee16f0d-116e-41ea-ad68-2c9f14e7ad83",
   "metadata": {},
   "outputs": [],
   "source": [
    "\n",
    "df1 = df.groupby(['symbol']).agg({'secVal':'sum','acqfromDt':'max'}).reset_index()\n",
    "df1"
   ]
  },
  {
   "cell_type": "code",
   "execution_count": null,
   "id": "30d7361a-bddb-4b16-9148-051eb9c457bd",
   "metadata": {},
   "outputs": [],
   "source": [
    "df1 = df1.sort_values(by = \"acqfromDt\",ascending = False)\n",
    "df1"
   ]
  },
  {
   "cell_type": "code",
   "execution_count": null,
   "id": "76f447db-996f-486e-b7cb-6591037e0911",
   "metadata": {},
   "outputs": [],
   "source": [
    "df1.head(50)"
   ]
  }
 ],
 "metadata": {
  "kernelspec": {
   "display_name": "Python 3",
   "language": "python",
   "name": "python3"
  },
  "language_info": {
   "codemirror_mode": {
    "name": "ipython",
    "version": 3
   },
   "file_extension": ".py",
   "mimetype": "text/x-python",
   "name": "python",
   "nbconvert_exporter": "python",
   "pygments_lexer": "ipython3",
   "version": "3.12.0"
  }
 },
 "nbformat": 4,
 "nbformat_minor": 5
}
