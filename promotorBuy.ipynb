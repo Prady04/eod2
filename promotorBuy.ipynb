{
 "cells": [
  {
   "cell_type": "markdown",
   "id": "3ccd51a0-30f7-4821-ac0a-a06cccb02b34",
   "metadata": {},
   "source": [
    "## Get data from NSE"
   ]
  },
  {
   "cell_type": "code",
   "execution_count": 1,
   "id": "2f4c7a33-fa82-491c-83b0-006cde4db43f",
   "metadata": {},
   "outputs": [
    {
     "name": "stdout",
     "output_type": "stream",
     "text": [
      "https://www.nseindia.com/api/corporates-pit?index=equities&from_date=19-12-2024&to_date=18-04-2025\n",
      "{'_abck': '34140C5818C0B74D448BF310DB9636EF~-1~YAAQhNcLF++pxT6WAQAA2pgIRQ2rohtpw7lYySHfw4r6c0YMYFxudbqGqCH5TWPLojnKd6B+SCrxdmUtN0HmrYhOQqZUpAI5z4CSwNsDcvhw+bQ2+YfwA3tkOYb8XA93CdKnAujOHHyXrGePfTo8TtyVdQiRLrWiiNddMsMHhBEvOzYkgHqhFBeh042spI0oOB0E5sZyZGrlDzXydRSZ4X4jDYq9QMgrZAKnEKd1s6KRlZY7+1vzW+A9Lf78kmubZ+ZEfp5NbO6+Ghttvz626+8yp6FVOnb2hBiEUpLtxbqIac8DHOlrjbtpnNG7aBmVgKrpkLzufcmqfGcJZ3jtNplfYFwE52fRp+THxWHSUyw8ktz8NRwQ/3Wa/BwSV7Pya82S1QDv0hCwBtVQfNrJ8++6AAkI4202o4qjD2TM2w==~-1~-1~-1', 'bm_sz': '7CCCC67522287577B60989D7CCBD034A~YAAQhNcLF/CpxT6WAQAA2pgIRRtnffQb4PzFwFeMzIcTHGGIdGZNp/dX6U28afBDCV5eRRkKlH1pfrfGLUYTW9FbroLA3YZ23VJmm2YWKFx4skC0hZ9t+XKdVAta3yMPE2wXV27y2IP6eDL8C6R1m0JUvq6cApIc9/6q3b0LNrWHGKJxovuASD4lS9Yc0n0p+v7p1elAPw9NNUBboSXEaF6dZ0rcFDh6o5IttHPORdQkX14r0qJKSthNZeR91TigZ2qmm0xsqpDrZLUHMxprb9xvTYIInXWK1XUkoso32g4WqFoNdo4qMsB/Njlli+ceYBaQ47JCl5Jf8cf7hG8h33stJGZo5hJMtRqHBvWh~4604215~3422517'}\n",
      "401\n",
      "Unauthorized access. Please check your authentication credentials.\n"
     ]
    }
   ],
   "source": [
    "\n",
    "\n",
    "\n",
    "import requests\n",
    "import pandas as pd\n",
    "from datetime import datetime, timedelta\n",
    "\n",
    "pd.set_option('display.max_columns', None)\n",
    "\n",
    "fromdate = datetime.strftime(datetime.today(), '%d-%m-%Y')\n",
    "todate = datetime.today() - timedelta(days=120)\n",
    "enddate = datetime.strftime(todate, '%d-%m-%Y')\n",
    "url = 'https://www.nseindia.com/api/corporates-pit?index=equities&from_date=' + enddate + '&to_date=' + fromdate\n",
    "print(url)\n",
    "\n",
    "headers = {\n",
    "    'User-Agent': 'Mozilla/5.0 (Windows NT 10.0; Win64; x64) AppleWebKit/537.36 (KHTML, like Gecko) Chrome/89.0.4389.82 Safari/537.36',\n",
    "    'Accept': 'application/json, text/javascript, */*; q=0.01',\n",
    "    'Referer': 'https://www.nseindia.com',\n",
    "    'X-Requested-With': 'XMLHttpRequest'\n",
    "}\n",
    "\n",
    "session = requests.Session()\n",
    "session.headers.update(headers)\n",
    "\n",
    "\n",
    "try:\n",
    "    # Initial request to get the cookies\n",
    "    st = session.get('https://www.nseindia.com', timeout=5,headers=headers)\n",
    "    #st.raise_for_status()  # Check if the request was successful\n",
    "    print(st.cookies.get_dict())\n",
    "\n",
    "    # Request to fetch the data\n",
    "    response = session.get(url, headers=headers, cookies=st.cookies.get_dict())\n",
    "    print(response.status_code)\n",
    "\n",
    "    if response.status_code == 200:\n",
    "        data = response.json()\n",
    "        print(data)\n",
    "    elif response.status_code == 401:\n",
    "        print(\"Unauthorized access. Please check your authentication credentials.\")\n",
    "    else:\n",
    "        print(f\"Failed to fetch data. Status code: {response.status_code}\")\n",
    "except requests.exceptions.RequestException as e:\n",
    "    print(f\"An error occurred: {e}\")"
   ]
  },
  {
   "cell_type": "markdown",
   "id": "b70a68bd-6b2b-4057-afc4-e61faa419cc6",
   "metadata": {},
   "source": [
    "## Convert Json to Dataframe"
   ]
  },
  {
   "cell_type": "code",
   "execution_count": null,
   "id": "4023832e-4ad1-45df-bc6b-ad1db9862173",
   "metadata": {},
   "outputs": [],
   "source": [
    "df = pd.DataFrame(data['data'])\n",
    "df"
   ]
  },
  {
   "cell_type": "code",
   "execution_count": null,
   "id": "b4e31812-28e1-4897-817f-ed17267b9cac",
   "metadata": {},
   "outputs": [],
   "source": [
    "df.replace(\"-\", 0, inplace=True)"
   ]
  },
  {
   "cell_type": "code",
   "execution_count": null,
   "id": "4640d240-5ca7-4eb7-bbcc-bc807834b3a1",
   "metadata": {},
   "outputs": [],
   "source": [
    "\n",
    "df[\"secVal\"] = pd.to_numeric(df[\"secVal\"])\n",
    "df['acqfromDt'] = pd.to_datetime(df['acqfromDt'],format='mixed')\n",
    "df"
   ]
  },
  {
   "cell_type": "code",
   "execution_count": null,
   "id": "75926682-498a-4c14-8e08-052ee542a151",
   "metadata": {},
   "outputs": [],
   "source": [
    "\n",
    "personCat = ['Promoters','Promoter Group']\n",
    "df = df[(df['personCategory'].isin(personCat)) & (df['acqMode'] == 'Market Purchase') & (df['tdpTransactionType'] == 'Buy') ]\n",
    "df"
   ]
  },
  {
   "cell_type": "code",
   "execution_count": null,
   "id": "c4ccf35b-8aa4-4e5e-9ea5-3fcac0594beb",
   "metadata": {},
   "outputs": [],
   "source": [
    "\n",
    "df[df['symbol'] == \"POONAWALLA\"]"
   ]
  },
  {
   "cell_type": "code",
   "execution_count": null,
   "id": "fee16f0d-116e-41ea-ad68-2c9f14e7ad83",
   "metadata": {},
   "outputs": [],
   "source": [
    "\n",
    "df1 = df.groupby(['symbol']).agg({'secVal':'sum','acqfromDt':'max'}).reset_index()\n",
    "df1"
   ]
  },
  {
   "cell_type": "code",
   "execution_count": null,
   "id": "30d7361a-bddb-4b16-9148-051eb9c457bd",
   "metadata": {},
   "outputs": [],
   "source": [
    "df1 = df1.sort_values(by = \"acqfromDt\",ascending = False)\n",
    "df1"
   ]
  },
  {
   "cell_type": "code",
   "execution_count": null,
   "id": "76f447db-996f-486e-b7cb-6591037e0911",
   "metadata": {},
   "outputs": [],
   "source": [
    "df1.head(50)"
   ]
  }
 ],
 "metadata": {
  "kernelspec": {
   "display_name": "venv",
   "language": "python",
   "name": "python3"
  },
  "language_info": {
   "codemirror_mode": {
    "name": "ipython",
    "version": 3
   },
   "file_extension": ".py",
   "mimetype": "text/x-python",
   "name": "python",
   "nbconvert_exporter": "python",
   "pygments_lexer": "ipython3",
   "version": "3.12.0"
  }
 },
 "nbformat": 4,
 "nbformat_minor": 5
}
